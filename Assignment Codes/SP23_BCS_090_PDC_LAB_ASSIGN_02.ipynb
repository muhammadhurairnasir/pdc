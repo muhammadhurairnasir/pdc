{
  "nbformat": 4,
  "nbformat_minor": 0,
  "metadata": {
    "colab": {
      "provenance": [],
      "gpuType": "T4"
    },
    "kernelspec": {
      "name": "python3",
      "display_name": "Python 3"
    },
    "language_info": {
      "name": "python"
    },
    "accelerator": "GPU"
  },
  "cells": [
    {
      "cell_type": "code",
      "execution_count": null,
      "metadata": {
        "colab": {
          "base_uri": "https://localhost:8080/"
        },
        "id": "AyF-jmBRysQz",
        "outputId": "480dbdef-0bb0-4a69-bf53-e81a577b83f4"
      },
      "outputs": [
        {
          "output_type": "stream",
          "name": "stdout",
          "text": [
            "GPU available?: True\n",
            "Block (8, 8): 1.017 ms, correct=True\n",
            "Block (16, 16): 1.884 ms, correct=True\n",
            "Block (32, 32): 3.479 ms, correct=True\n",
            "Block (8, 8) (CPU): 3.730 ms, correct=True\n",
            "Block (16, 16) (CPU): 4.733 ms, correct=True\n",
            "Block (32, 32) (CPU): 3.935 ms, correct=True\n",
            "Auto-chosen block size: (32, 32)\n"
          ]
        }
      ],
      "source": [
        "# SAVE AS invert_cupy.py (works in Colab too!)\n",
        "import numpy as np\n",
        "import cupy as cp\n",
        "import time\n",
        "\n",
        "# Choose image size\n",
        "H, W = 4096, 4096\n",
        "img = np.random.randint(0, 256, size=(H, W), dtype=np.uint8)\n",
        "\n",
        "print(\"GPU available?:\", cp.cuda.runtime.getDeviceCount() > 0)\n",
        "\n",
        "# Define raw CUDA kernel in CuPy\n",
        "invert_kernel = cp.RawKernel(r'''\n",
        "extern \"C\" __global__\n",
        "void invert_kernel(const unsigned char* input_img, unsigned char* output_img,\n",
        "                   int H, int W) {\n",
        "    int x = blockDim.x * blockIdx.x + threadIdx.x;\n",
        "    int y = blockDim.y * blockIdx.y + threadIdx.y;\n",
        "    if (x < H && y < W) {\n",
        "        output_img[x * W + y] = 255 - input_img[x * W + y];\n",
        "    }\n",
        "}\n",
        "''', 'invert_kernel')\n",
        "\n",
        "\n",
        "def run_gpu(block_dim):\n",
        "    bx, by = block_dim\n",
        "    gx = (H + bx - 1) // bx\n",
        "    gy = (W + by - 1) // by\n",
        "    grid_dim = (gx, gy)\n",
        "\n",
        "    d_in = cp.array(img)\n",
        "    d_out = cp.empty_like(d_in)\n",
        "\n",
        "    # Warmup\n",
        "    invert_kernel(grid_dim, (bx, by), (d_in, d_out, H, W))\n",
        "    cp.cuda.runtime.deviceSynchronize()\n",
        "\n",
        "    # Timing with CUDA events\n",
        "    start = cp.cuda.Event()\n",
        "    end = cp.cuda.Event()\n",
        "    start.record()\n",
        "    invert_kernel(grid_dim, (bx, by), (d_in, d_out, H, W))\n",
        "    end.record()\n",
        "    end.synchronize()\n",
        "    elapsed_ms = cp.cuda.get_elapsed_time(start, end)\n",
        "\n",
        "    out = cp.asnumpy(d_out)\n",
        "    correct = np.all(out == (255 - img))\n",
        "\n",
        "    return elapsed_ms, correct\n",
        "\n",
        "\n",
        "blocks = [(8,8), (16,16), (32,32)]\n",
        "for b in blocks:\n",
        "    t_ms, correct = run_gpu(b)\n",
        "    print(f\"Block {b}: {t_ms:.3f} ms, correct={correct}\")\n",
        "\n",
        "\n",
        "# CPU fallback for comparison\n",
        "def invert_cpu(in_img):\n",
        "    return 255 - in_img\n",
        "\n",
        "for b in blocks:\n",
        "    t0 = time.perf_counter()\n",
        "    out = invert_cpu(img)\n",
        "    t1 = time.perf_counter()\n",
        "    print(f\"Block {b} (CPU): {(t1-t0)*1000:.3f} ms, correct={np.all(out==(255-img))}\")\n",
        "\n",
        "\n",
        "# Auto block size chooser (same heuristic)\n",
        "def choose_block_size_auto(img_shape, max_threads_per_block=1024):\n",
        "    candidates = [(8,8), (16,16), (32,32)]\n",
        "    chosen = None\n",
        "    for b in candidates[::-1]:\n",
        "        tp = b[0]*b[1]\n",
        "        if tp <= max_threads_per_block and tp % 32 == 0:\n",
        "            chosen = b\n",
        "            break\n",
        "    if chosen is None:\n",
        "        chosen = (16,16)\n",
        "    return chosen\n",
        "\n",
        "print(\"Auto-chosen block size:\", choose_block_size_auto(img.shape, max_threads_per_block=1024))\n"
      ]
    }
  ]
}